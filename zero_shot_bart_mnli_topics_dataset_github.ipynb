{
  "cells": [
    {
      "cell_type": "markdown",
      "metadata": {
        "id": "view-in-github",
        "colab_type": "text"
      },
      "source": [
        "<a href=\"https://colab.research.google.com/github/maruseppe/Aspect-Based-Sentiment-Analysis-using-Bart/blob/main/zero_shot_bart_mnli_topics_dataset_github.ipynb\" target=\"_parent\"><img src=\"https://colab.research.google.com/assets/colab-badge.svg\" alt=\"Open In Colab\"/></a>"
      ]
    },
    {
      "cell_type": "markdown",
      "source": [
        "# Import dataset"
      ],
      "metadata": {
        "id": "MBAjgThhwm3G"
      }
    },
    {
      "cell_type": "code",
      "execution_count": null,
      "metadata": {
        "colab": {
          "base_uri": "https://localhost:8080/"
        },
        "id": "lXQXWrd71VBT",
        "outputId": "00bbe867-f06a-4d9d-d9d1-10034c7129c8"
      },
      "outputs": [
        {
          "output_type": "stream",
          "name": "stdout",
          "text": [
            "Mounted at /content/gdrive\n"
          ]
        }
      ],
      "source": [
        "from google.colab import drive\n",
        "drive.mount(\"/content/gdrive\")"
      ]
    },
    {
      "cell_type": "code",
      "execution_count": null,
      "metadata": {
        "id": "wZt8uJNufY-d"
      },
      "outputs": [],
      "source": [
        "!pip install datasets\n",
        "from datasets import load_dataset "
      ]
    },
    {
      "cell_type": "code",
      "execution_count": null,
      "metadata": {
        "id": "IM80A_2Mj2O0"
      },
      "outputs": [],
      "source": [
        "yahoo_dataset = load_dataset('csv', data_files='/content/gdrive/MyDrive/yahoo_answers_csv/test.csv')"
      ]
    },
    {
      "cell_type": "markdown",
      "source": [
        "## Visualize raw data via pandas and rename features"
      ],
      "metadata": {
        "id": "hEpXB2Ytd2y4"
      }
    },
    {
      "cell_type": "code",
      "execution_count": null,
      "metadata": {
        "colab": {
          "base_uri": "https://localhost:8080/",
          "height": 291
        },
        "id": "KGUhtLUqnMb-",
        "outputId": "47083078-1a2a-429b-dfc7-d8b30c944ad3"
      },
      "outputs": [
        {
          "output_type": "execute_result",
          "data": {
            "text/plain": [
              "   9                       What makes friendship click?  \\\n",
              "0  2                      Why does Zebras have stripes?   \n",
              "1  4           What did the itsy bitsy sipder climb up?   \n",
              "2  4  What is the difference between a Bachelors and...   \n",
              "\n",
              "                      How does the spark keep going?  \\\n",
              "0  What is the purpose or those stripes? Who do t...   \n",
              "1                                               None   \n",
              "2                                               None   \n",
              "\n",
              "  good communication is what does it.  Can you move beyond small talk and say what's really on your mind.  If you start doing this, my expereince is that potentially good friends will respond or shun you.  Then you know who the really good friends are.  \n",
              "0  this provides camouflage - predator vision is ...                                                                                                                                                                                                          \n",
              "1                                         waterspout                                                                                                                                                                                                          \n",
              "2  One difference between a Bachelors and a Maste...                                                                                                                                                                                                          "
            ],
            "text/html": [
              "\n",
              "  <div id=\"df-e4e9364f-80f8-4b02-b91e-528d3e11805c\">\n",
              "    <div class=\"colab-df-container\">\n",
              "      <div>\n",
              "<style scoped>\n",
              "    .dataframe tbody tr th:only-of-type {\n",
              "        vertical-align: middle;\n",
              "    }\n",
              "\n",
              "    .dataframe tbody tr th {\n",
              "        vertical-align: top;\n",
              "    }\n",
              "\n",
              "    .dataframe thead th {\n",
              "        text-align: right;\n",
              "    }\n",
              "</style>\n",
              "<table border=\"1\" class=\"dataframe\">\n",
              "  <thead>\n",
              "    <tr style=\"text-align: right;\">\n",
              "      <th></th>\n",
              "      <th>9</th>\n",
              "      <th>What makes friendship click?</th>\n",
              "      <th>How does the spark keep going?</th>\n",
              "      <th>good communication is what does it.  Can you move beyond small talk and say what's really on your mind.  If you start doing this, my expereince is that potentially good friends will respond or shun you.  Then you know who the really good friends are.</th>\n",
              "    </tr>\n",
              "  </thead>\n",
              "  <tbody>\n",
              "    <tr>\n",
              "      <th>0</th>\n",
              "      <td>2</td>\n",
              "      <td>Why does Zebras have stripes?</td>\n",
              "      <td>What is the purpose or those stripes? Who do t...</td>\n",
              "      <td>this provides camouflage - predator vision is ...</td>\n",
              "    </tr>\n",
              "    <tr>\n",
              "      <th>1</th>\n",
              "      <td>4</td>\n",
              "      <td>What did the itsy bitsy sipder climb up?</td>\n",
              "      <td>None</td>\n",
              "      <td>waterspout</td>\n",
              "    </tr>\n",
              "    <tr>\n",
              "      <th>2</th>\n",
              "      <td>4</td>\n",
              "      <td>What is the difference between a Bachelors and...</td>\n",
              "      <td>None</td>\n",
              "      <td>One difference between a Bachelors and a Maste...</td>\n",
              "    </tr>\n",
              "  </tbody>\n",
              "</table>\n",
              "</div>\n",
              "      <button class=\"colab-df-convert\" onclick=\"convertToInteractive('df-e4e9364f-80f8-4b02-b91e-528d3e11805c')\"\n",
              "              title=\"Convert this dataframe to an interactive table.\"\n",
              "              style=\"display:none;\">\n",
              "        \n",
              "  <svg xmlns=\"http://www.w3.org/2000/svg\" height=\"24px\"viewBox=\"0 0 24 24\"\n",
              "       width=\"24px\">\n",
              "    <path d=\"M0 0h24v24H0V0z\" fill=\"none\"/>\n",
              "    <path d=\"M18.56 5.44l.94 2.06.94-2.06 2.06-.94-2.06-.94-.94-2.06-.94 2.06-2.06.94zm-11 1L8.5 8.5l.94-2.06 2.06-.94-2.06-.94L8.5 2.5l-.94 2.06-2.06.94zm10 10l.94 2.06.94-2.06 2.06-.94-2.06-.94-.94-2.06-.94 2.06-2.06.94z\"/><path d=\"M17.41 7.96l-1.37-1.37c-.4-.4-.92-.59-1.43-.59-.52 0-1.04.2-1.43.59L10.3 9.45l-7.72 7.72c-.78.78-.78 2.05 0 2.83L4 21.41c.39.39.9.59 1.41.59.51 0 1.02-.2 1.41-.59l7.78-7.78 2.81-2.81c.8-.78.8-2.07 0-2.86zM5.41 20L4 18.59l7.72-7.72 1.47 1.35L5.41 20z\"/>\n",
              "  </svg>\n",
              "      </button>\n",
              "      \n",
              "  <style>\n",
              "    .colab-df-container {\n",
              "      display:flex;\n",
              "      flex-wrap:wrap;\n",
              "      gap: 12px;\n",
              "    }\n",
              "\n",
              "    .colab-df-convert {\n",
              "      background-color: #E8F0FE;\n",
              "      border: none;\n",
              "      border-radius: 50%;\n",
              "      cursor: pointer;\n",
              "      display: none;\n",
              "      fill: #1967D2;\n",
              "      height: 32px;\n",
              "      padding: 0 0 0 0;\n",
              "      width: 32px;\n",
              "    }\n",
              "\n",
              "    .colab-df-convert:hover {\n",
              "      background-color: #E2EBFA;\n",
              "      box-shadow: 0px 1px 2px rgba(60, 64, 67, 0.3), 0px 1px 3px 1px rgba(60, 64, 67, 0.15);\n",
              "      fill: #174EA6;\n",
              "    }\n",
              "\n",
              "    [theme=dark] .colab-df-convert {\n",
              "      background-color: #3B4455;\n",
              "      fill: #D2E3FC;\n",
              "    }\n",
              "\n",
              "    [theme=dark] .colab-df-convert:hover {\n",
              "      background-color: #434B5C;\n",
              "      box-shadow: 0px 1px 3px 1px rgba(0, 0, 0, 0.15);\n",
              "      filter: drop-shadow(0px 1px 2px rgba(0, 0, 0, 0.3));\n",
              "      fill: #FFFFFF;\n",
              "    }\n",
              "  </style>\n",
              "\n",
              "      <script>\n",
              "        const buttonEl =\n",
              "          document.querySelector('#df-e4e9364f-80f8-4b02-b91e-528d3e11805c button.colab-df-convert');\n",
              "        buttonEl.style.display =\n",
              "          google.colab.kernel.accessAllowed ? 'block' : 'none';\n",
              "\n",
              "        async function convertToInteractive(key) {\n",
              "          const element = document.querySelector('#df-e4e9364f-80f8-4b02-b91e-528d3e11805c');\n",
              "          const dataTable =\n",
              "            await google.colab.kernel.invokeFunction('convertToInteractive',\n",
              "                                                     [key], {});\n",
              "          if (!dataTable) return;\n",
              "\n",
              "          const docLinkHtml = 'Like what you see? Visit the ' +\n",
              "            '<a target=\"_blank\" href=https://colab.research.google.com/notebooks/data_table.ipynb>data table notebook</a>'\n",
              "            + ' to learn more about interactive tables.';\n",
              "          element.innerHTML = '';\n",
              "          dataTable['output_type'] = 'display_data';\n",
              "          await google.colab.output.renderOutput(dataTable, element);\n",
              "          const docLink = document.createElement('div');\n",
              "          docLink.innerHTML = docLinkHtml;\n",
              "          element.appendChild(docLink);\n",
              "        }\n",
              "      </script>\n",
              "    </div>\n",
              "  </div>\n",
              "  "
            ]
          },
          "metadata": {},
          "execution_count": 4
        }
      ],
      "source": [
        "yahoo_sample=yahoo_dataset[\"train\"]\n",
        "yahoo_sample.set_format(\"pandas\")\n",
        "yahoo_sample[:3]"
      ]
    },
    {
      "cell_type": "markdown",
      "metadata": {
        "id": "w0vU_nPe1RdG"
      },
      "source": [
        "Columns are missing the title. It would be better to rename them to something more interpretable.\n",
        "The titles can be found in the readme file of the dataset folder."
      ]
    },
    {
      "cell_type": "code",
      "execution_count": null,
      "metadata": {
        "id": "UXSZqrmh1Qo-"
      },
      "outputs": [],
      "source": [
        "\n",
        "colon_titles = [\"class index\",\"question title\", \"question content\", \"best answer\"]\n",
        "\n",
        "for i in range(len(colon_titles)) :\n",
        "  yahoo_dataset = yahoo_dataset.rename_column(\n",
        "      original_column_name=yahoo_dataset[\"train\"].column_names[i], new_column_name=colon_titles[i]\n",
        "  )\n",
        "yahoo_dataset"
      ]
    },
    {
      "cell_type": "code",
      "execution_count": null,
      "metadata": {
        "id": "sy5cFv_zcjNj"
      },
      "outputs": [],
      "source": [
        "columns = yahoo_dataset[\"train\"].column_names\n",
        "columns_to_keep = [\"class index\",\"question title\",\"best answer\"]\n",
        "columns_to_remove = set(columns_to_keep).symmetric_difference(columns)\n",
        "yahoo_dataset = yahoo_dataset.remove_columns(columns_to_remove)\n",
        "yahoo_dataset"
      ]
    },
    {
      "cell_type": "code",
      "execution_count": null,
      "metadata": {
        "colab": {
          "base_uri": "https://localhost:8080/",
          "height": 143
        },
        "id": "cKtXpb7zB4is",
        "outputId": "ee56c29a-6538-46ad-9c36-9d2e13a5e6be"
      },
      "outputs": [
        {
          "output_type": "execute_result",
          "data": {
            "text/plain": [
              "   class index                                     question title  \\\n",
              "0            2                      Why does Zebras have stripes?   \n",
              "1            4           What did the itsy bitsy sipder climb up?   \n",
              "2            4  What is the difference between a Bachelors and...   \n",
              "\n",
              "                                         best answer  \n",
              "0  this provides camouflage - predator vision is ...  \n",
              "1                                         waterspout  \n",
              "2  One difference between a Bachelors and a Maste...  "
            ],
            "text/html": [
              "\n",
              "  <div id=\"df-1dcecf2a-b71a-44c5-99ac-858690b4fab4\">\n",
              "    <div class=\"colab-df-container\">\n",
              "      <div>\n",
              "<style scoped>\n",
              "    .dataframe tbody tr th:only-of-type {\n",
              "        vertical-align: middle;\n",
              "    }\n",
              "\n",
              "    .dataframe tbody tr th {\n",
              "        vertical-align: top;\n",
              "    }\n",
              "\n",
              "    .dataframe thead th {\n",
              "        text-align: right;\n",
              "    }\n",
              "</style>\n",
              "<table border=\"1\" class=\"dataframe\">\n",
              "  <thead>\n",
              "    <tr style=\"text-align: right;\">\n",
              "      <th></th>\n",
              "      <th>class index</th>\n",
              "      <th>question title</th>\n",
              "      <th>best answer</th>\n",
              "    </tr>\n",
              "  </thead>\n",
              "  <tbody>\n",
              "    <tr>\n",
              "      <th>0</th>\n",
              "      <td>2</td>\n",
              "      <td>Why does Zebras have stripes?</td>\n",
              "      <td>this provides camouflage - predator vision is ...</td>\n",
              "    </tr>\n",
              "    <tr>\n",
              "      <th>1</th>\n",
              "      <td>4</td>\n",
              "      <td>What did the itsy bitsy sipder climb up?</td>\n",
              "      <td>waterspout</td>\n",
              "    </tr>\n",
              "    <tr>\n",
              "      <th>2</th>\n",
              "      <td>4</td>\n",
              "      <td>What is the difference between a Bachelors and...</td>\n",
              "      <td>One difference between a Bachelors and a Maste...</td>\n",
              "    </tr>\n",
              "  </tbody>\n",
              "</table>\n",
              "</div>\n",
              "      <button class=\"colab-df-convert\" onclick=\"convertToInteractive('df-1dcecf2a-b71a-44c5-99ac-858690b4fab4')\"\n",
              "              title=\"Convert this dataframe to an interactive table.\"\n",
              "              style=\"display:none;\">\n",
              "        \n",
              "  <svg xmlns=\"http://www.w3.org/2000/svg\" height=\"24px\"viewBox=\"0 0 24 24\"\n",
              "       width=\"24px\">\n",
              "    <path d=\"M0 0h24v24H0V0z\" fill=\"none\"/>\n",
              "    <path d=\"M18.56 5.44l.94 2.06.94-2.06 2.06-.94-2.06-.94-.94-2.06-.94 2.06-2.06.94zm-11 1L8.5 8.5l.94-2.06 2.06-.94-2.06-.94L8.5 2.5l-.94 2.06-2.06.94zm10 10l.94 2.06.94-2.06 2.06-.94-2.06-.94-.94-2.06-.94 2.06-2.06.94z\"/><path d=\"M17.41 7.96l-1.37-1.37c-.4-.4-.92-.59-1.43-.59-.52 0-1.04.2-1.43.59L10.3 9.45l-7.72 7.72c-.78.78-.78 2.05 0 2.83L4 21.41c.39.39.9.59 1.41.59.51 0 1.02-.2 1.41-.59l7.78-7.78 2.81-2.81c.8-.78.8-2.07 0-2.86zM5.41 20L4 18.59l7.72-7.72 1.47 1.35L5.41 20z\"/>\n",
              "  </svg>\n",
              "      </button>\n",
              "      \n",
              "  <style>\n",
              "    .colab-df-container {\n",
              "      display:flex;\n",
              "      flex-wrap:wrap;\n",
              "      gap: 12px;\n",
              "    }\n",
              "\n",
              "    .colab-df-convert {\n",
              "      background-color: #E8F0FE;\n",
              "      border: none;\n",
              "      border-radius: 50%;\n",
              "      cursor: pointer;\n",
              "      display: none;\n",
              "      fill: #1967D2;\n",
              "      height: 32px;\n",
              "      padding: 0 0 0 0;\n",
              "      width: 32px;\n",
              "    }\n",
              "\n",
              "    .colab-df-convert:hover {\n",
              "      background-color: #E2EBFA;\n",
              "      box-shadow: 0px 1px 2px rgba(60, 64, 67, 0.3), 0px 1px 3px 1px rgba(60, 64, 67, 0.15);\n",
              "      fill: #174EA6;\n",
              "    }\n",
              "\n",
              "    [theme=dark] .colab-df-convert {\n",
              "      background-color: #3B4455;\n",
              "      fill: #D2E3FC;\n",
              "    }\n",
              "\n",
              "    [theme=dark] .colab-df-convert:hover {\n",
              "      background-color: #434B5C;\n",
              "      box-shadow: 0px 1px 3px 1px rgba(0, 0, 0, 0.15);\n",
              "      filter: drop-shadow(0px 1px 2px rgba(0, 0, 0, 0.3));\n",
              "      fill: #FFFFFF;\n",
              "    }\n",
              "  </style>\n",
              "\n",
              "      <script>\n",
              "        const buttonEl =\n",
              "          document.querySelector('#df-1dcecf2a-b71a-44c5-99ac-858690b4fab4 button.colab-df-convert');\n",
              "        buttonEl.style.display =\n",
              "          google.colab.kernel.accessAllowed ? 'block' : 'none';\n",
              "\n",
              "        async function convertToInteractive(key) {\n",
              "          const element = document.querySelector('#df-1dcecf2a-b71a-44c5-99ac-858690b4fab4');\n",
              "          const dataTable =\n",
              "            await google.colab.kernel.invokeFunction('convertToInteractive',\n",
              "                                                     [key], {});\n",
              "          if (!dataTable) return;\n",
              "\n",
              "          const docLinkHtml = 'Like what you see? Visit the ' +\n",
              "            '<a target=\"_blank\" href=https://colab.research.google.com/notebooks/data_table.ipynb>data table notebook</a>'\n",
              "            + ' to learn more about interactive tables.';\n",
              "          element.innerHTML = '';\n",
              "          dataTable['output_type'] = 'display_data';\n",
              "          await google.colab.output.renderOutput(dataTable, element);\n",
              "          const docLink = document.createElement('div');\n",
              "          docLink.innerHTML = docLinkHtml;\n",
              "          element.appendChild(docLink);\n",
              "        }\n",
              "      </script>\n",
              "    </div>\n",
              "  </div>\n",
              "  "
            ]
          },
          "metadata": {},
          "execution_count": 8
        }
      ],
      "source": [
        "yahoo_sample1=yahoo_dataset[\"train\"]\n",
        "yahoo_sample1.set_format(\"pandas\")\n",
        "yahoo_sample1[:3]"
      ]
    },
    {
      "cell_type": "markdown",
      "source": [
        "# Pre-tokenization"
      ],
      "metadata": {
        "id": "cy1wb4WeefxJ"
      }
    },
    {
      "cell_type": "markdown",
      "source": [
        "For tokenization, filter out None examples"
      ],
      "metadata": {
        "id": "ryNRbnwkfIaR"
      }
    },
    {
      "cell_type": "code",
      "execution_count": null,
      "metadata": {
        "colab": {
          "base_uri": "https://localhost:8080/",
          "height": 49,
          "referenced_widgets": [
            "ad99bfd6260e417cb10a46a69bff954c",
            "ba4740295f9d41998e1cf261835a8b4d",
            "a19a879c556844b9afaa338efe2e43d9",
            "85bd7d5d7c8c4449b5637d8d81b1fb52",
            "1ec23ab67a8c492ca42d4abdfd51a6eb",
            "93240ae5a0a1429695f226f9214a2255",
            "3108622ffd8d40339b6a2b571cecf755",
            "7cb9d34977d44b618e1b33d872ab3bfa",
            "a7c5ca478ad544ba99b564977150f4b4",
            "8ed6379370b0419daf379ff99ee18ab2",
            "5a16a14d17514cedbeef5bda953f4e48"
          ]
        },
        "id": "Dm-A5yj27tPZ",
        "outputId": "cf1cdf8b-5b76-4038-c9a1-5ba59abf408d"
      },
      "outputs": [
        {
          "output_type": "display_data",
          "data": {
            "text/plain": [
              "  0%|          | 0/60 [00:00<?, ?ba/s]"
            ],
            "application/vnd.jupyter.widget-view+json": {
              "version_major": 2,
              "version_minor": 0,
              "model_id": "ad99bfd6260e417cb10a46a69bff954c"
            }
          },
          "metadata": {}
        }
      ],
      "source": [
        "yahoo_dataset = yahoo_dataset.filter(lambda x: x[\"best answer\"] is not None)"
      ]
    },
    {
      "cell_type": "markdown",
      "metadata": {
        "id": "eCbyox1l_LlH"
      },
      "source": [
        "A good practice when doing any sort of data analysis is to grab a small random sample to get a quick feel for the type of data you’re working with. \n",
        "\n",
        "For better performance we concatenate quetion and answer fields that will become the hypothesis of our NLI inference\n",
        "\n",
        "We also define a dataset variable of the true labels that will be used for metrics calculation and during plotting"
      ]
    },
    {
      "cell_type": "code",
      "execution_count": null,
      "metadata": {
        "colab": {
          "base_uri": "https://localhost:8080/"
        },
        "id": "kRjuTyXu-x5W",
        "outputId": "c03496ff-133f-47f3-8b98-26e662bd7499"
      },
      "outputs": [
        {
          "output_type": "stream",
          "name": "stderr",
          "text": [
            "Loading cached shuffled indices for dataset at /root/.cache/huggingface/datasets/csv/default-5018489fd3a78b9e/0.0.0/433e0ccc46f9880962cc2b12065189766fbb2bee57a221866138fb9203c83519/cache-9ed6d8fa1f4279d0.arrow\n",
            "Loading cached shuffled indices for dataset at /root/.cache/huggingface/datasets/csv/default-5018489fd3a78b9e/0.0.0/433e0ccc46f9880962cc2b12065189766fbb2bee57a221866138fb9203c83519/cache-9ed6d8fa1f4279d0.arrow\n"
          ]
        }
      ],
      "source": [
        "#yahoo_sample = yahoo_dataset[\"train\"].shuffle(seed=42).select(range(1000))[\"best answer\"]\n",
        "yahoo_sample = yahoo_dataset[\"train\"].shuffle(seed=42).select(range(1000))[\"question title\"] +  yahoo_dataset[\"train\"].shuffle(seed=42).select(range(1000))[\"best answer\"]\n",
        "\n",
        "yahoo_sample_labels= yahoo_dataset[\"train\"].shuffle(seed=42).select(range(1000))[\"class index\"]"
      ]
    },
    {
      "cell_type": "code",
      "execution_count": null,
      "metadata": {
        "id": "X22hcy_kqWPm"
      },
      "outputs": [],
      "source": [
        "yahoo_sample=list(yahoo_sample)\n",
        "len(yahoo_sample)"
      ]
    },
    {
      "cell_type": "code",
      "source": [
        "yahoo_sample_labels=list(yahoo_sample_labels)\n",
        "len(yahoo_sample_labels)"
      ],
      "metadata": {
        "id": "VSYvj3hEG-Cz"
      },
      "execution_count": null,
      "outputs": []
    },
    {
      "cell_type": "code",
      "source": [
        "yahoo_sample_labels = [str(i) for i in yahoo_sample_labels]\n",
        "len(yahoo_sample_labels)"
      ],
      "metadata": {
        "id": "-KmpYksHRqZU"
      },
      "execution_count": null,
      "outputs": []
    },
    {
      "cell_type": "markdown",
      "source": [
        "Check that the dataset is balanced and reduce the size of each class subset"
      ],
      "metadata": {
        "id": "wDxXF8Ybg3ES"
      }
    },
    {
      "cell_type": "code",
      "source": [
        "yahoo_sample_1_labels_index =[index for index, value in enumerate(yahoo_sample_labels) if value == \"4\" and yahoo_sample_labels[:index].count(\"4\")<100 ]\n",
        "len(yahoo_sample_1_labels_index)"
      ],
      "metadata": {
        "colab": {
          "base_uri": "https://localhost:8080/"
        },
        "id": "Kerg5RtKqoTx",
        "outputId": "63c67f02-ba67-4f5d-8a02-72b3598fa325"
      },
      "execution_count": null,
      "outputs": [
        {
          "output_type": "execute_result",
          "data": {
            "text/plain": [
              "96"
            ]
          },
          "metadata": {},
          "execution_count": 16
        }
      ]
    },
    {
      "cell_type": "code",
      "source": [
        "yahoo_sample_4_labels =[yahoo_sample_labels[i] for i, value in enumerate(yahoo_sample_labels) if value == \"1\" or value == \"2\" or value == \"3\" or value == \"4\"  ]\n",
        "len(yahoo_sample_4_labels)"
      ],
      "metadata": {
        "id": "aG_0tFfSu9-n",
        "colab": {
          "base_uri": "https://localhost:8080/"
        },
        "outputId": "3a0f260d-dd40-408c-ce1a-319e8c7b9498"
      },
      "execution_count": null,
      "outputs": [
        {
          "output_type": "execute_result",
          "data": {
            "text/plain": [
              "404"
            ]
          },
          "metadata": {},
          "execution_count": 17
        }
      ]
    },
    {
      "cell_type": "code",
      "source": [
        "yahoo_sample_4_labels_index =[index for index, value in enumerate(yahoo_sample_labels) if value == \"1\" or value == \"2\"  or value == \"3\" or value == \"4\"  ]\n",
        "len(yahoo_sample_4_labels_index)"
      ],
      "metadata": {
        "colab": {
          "base_uri": "https://localhost:8080/"
        },
        "id": "WXROGHjGLJy0",
        "outputId": "ca9dd531-9d93-4a39-a1bc-d0965dddb177"
      },
      "execution_count": null,
      "outputs": [
        {
          "output_type": "execute_result",
          "data": {
            "text/plain": [
              "404"
            ]
          },
          "metadata": {},
          "execution_count": 18
        }
      ]
    },
    {
      "cell_type": "code",
      "source": [
        "yahoo_sample=[ yahoo_sample[i] for i in yahoo_sample_4_labels_index]\n",
        "len(yahoo_sample)"
      ],
      "metadata": {
        "colab": {
          "base_uri": "https://localhost:8080/"
        },
        "id": "1-kueM1xolCY",
        "outputId": "2da2f3ae-679d-4bd3-a830-b31bf368669a"
      },
      "execution_count": null,
      "outputs": [
        {
          "output_type": "execute_result",
          "data": {
            "text/plain": [
              "404"
            ]
          },
          "metadata": {},
          "execution_count": 19
        }
      ]
    },
    {
      "cell_type": "markdown",
      "source": [
        "## Define candidate labels"
      ],
      "metadata": {
        "id": "5tdIik7uw1JK"
      }
    },
    {
      "cell_type": "code",
      "source": [
        "candidate_labels = load_dataset('text', data_files='/content/gdrive/MyDrive/yahoo_answers_csv/classes.txt')\n",
        "candidate_labels = candidate_labels[\"train\"][:4]\n",
        "candidate_labels"
      ],
      "metadata": {
        "id": "JEznQcJ8Cy7y"
      },
      "execution_count": null,
      "outputs": []
    },
    {
      "cell_type": "code",
      "source": [
        "candidate_labels1=load_dataset('text', data_files='/content/gdrive/MyDrive/yahoo_answers_csv/classes.txt')\n",
        "candidate_sample1=candidate_labels1[\"train\"]\n",
        "candidate_sample1.set_format(\"pandas\")\n",
        "candidate_sample1[:]"
      ],
      "metadata": {
        "colab": {
          "base_uri": "https://localhost:8080/",
          "height": 429,
          "referenced_widgets": [
            "c45c0101e5664e1fb4c175313235661a",
            "b1caadafe183400b8b7120f9e8dec4ed",
            "0e3143a912ab412f9bc7c190205c758d",
            "175988af436e48489926a23996771b9d",
            "358c7f50644d43dc849377de740dbf63",
            "86f3b1cb923c45588f7a18b5c8cc0d4f",
            "1be4f6a23a534c5e8718a07472576c07",
            "4e4ab2246069454f82fb8949e42ef522",
            "652320d3a857476aa2aa08f899b1ae94",
            "0dc2915c202d45eaaabb50cd80f85e42",
            "ff887598fd10426ab3f72ff9e5000af7"
          ]
        },
        "id": "yflZlSbUK5eJ",
        "outputId": "4b3d3a5d-c878-46ce-c28c-83974ef8f58f"
      },
      "execution_count": null,
      "outputs": [
        {
          "output_type": "stream",
          "name": "stderr",
          "text": [
            "Using custom data configuration default-7ea18acd3d2cdbfb\n",
            "Reusing dataset text (/root/.cache/huggingface/datasets/text/default-7ea18acd3d2cdbfb/0.0.0/4b86d314f7236db91f0a0f5cda32d4375445e64c5eda2692655dd99c2dac68e8)\n"
          ]
        },
        {
          "output_type": "display_data",
          "data": {
            "text/plain": [
              "  0%|          | 0/1 [00:00<?, ?it/s]"
            ],
            "application/vnd.jupyter.widget-view+json": {
              "version_major": 2,
              "version_minor": 0,
              "model_id": "c45c0101e5664e1fb4c175313235661a"
            }
          },
          "metadata": {}
        },
        {
          "output_type": "execute_result",
          "data": {
            "text/plain": [
              "                     text\n",
              "0       Society & Culture\n",
              "1   Science & Mathematics\n",
              "2                  Health\n",
              "3   Education & Reference\n",
              "4    Computers & Internet\n",
              "5                  Sports\n",
              "6      Business & Finance\n",
              "7   Entertainment & Music\n",
              "8  Family & Relationships\n",
              "9   Politics & Government"
            ],
            "text/html": [
              "\n",
              "  <div id=\"df-da237f44-f537-4283-b296-3334d54a5052\">\n",
              "    <div class=\"colab-df-container\">\n",
              "      <div>\n",
              "<style scoped>\n",
              "    .dataframe tbody tr th:only-of-type {\n",
              "        vertical-align: middle;\n",
              "    }\n",
              "\n",
              "    .dataframe tbody tr th {\n",
              "        vertical-align: top;\n",
              "    }\n",
              "\n",
              "    .dataframe thead th {\n",
              "        text-align: right;\n",
              "    }\n",
              "</style>\n",
              "<table border=\"1\" class=\"dataframe\">\n",
              "  <thead>\n",
              "    <tr style=\"text-align: right;\">\n",
              "      <th></th>\n",
              "      <th>text</th>\n",
              "    </tr>\n",
              "  </thead>\n",
              "  <tbody>\n",
              "    <tr>\n",
              "      <th>0</th>\n",
              "      <td>Society &amp; Culture</td>\n",
              "    </tr>\n",
              "    <tr>\n",
              "      <th>1</th>\n",
              "      <td>Science &amp; Mathematics</td>\n",
              "    </tr>\n",
              "    <tr>\n",
              "      <th>2</th>\n",
              "      <td>Health</td>\n",
              "    </tr>\n",
              "    <tr>\n",
              "      <th>3</th>\n",
              "      <td>Education &amp; Reference</td>\n",
              "    </tr>\n",
              "    <tr>\n",
              "      <th>4</th>\n",
              "      <td>Computers &amp; Internet</td>\n",
              "    </tr>\n",
              "    <tr>\n",
              "      <th>5</th>\n",
              "      <td>Sports</td>\n",
              "    </tr>\n",
              "    <tr>\n",
              "      <th>6</th>\n",
              "      <td>Business &amp; Finance</td>\n",
              "    </tr>\n",
              "    <tr>\n",
              "      <th>7</th>\n",
              "      <td>Entertainment &amp; Music</td>\n",
              "    </tr>\n",
              "    <tr>\n",
              "      <th>8</th>\n",
              "      <td>Family &amp; Relationships</td>\n",
              "    </tr>\n",
              "    <tr>\n",
              "      <th>9</th>\n",
              "      <td>Politics &amp; Government</td>\n",
              "    </tr>\n",
              "  </tbody>\n",
              "</table>\n",
              "</div>\n",
              "      <button class=\"colab-df-convert\" onclick=\"convertToInteractive('df-da237f44-f537-4283-b296-3334d54a5052')\"\n",
              "              title=\"Convert this dataframe to an interactive table.\"\n",
              "              style=\"display:none;\">\n",
              "        \n",
              "  <svg xmlns=\"http://www.w3.org/2000/svg\" height=\"24px\"viewBox=\"0 0 24 24\"\n",
              "       width=\"24px\">\n",
              "    <path d=\"M0 0h24v24H0V0z\" fill=\"none\"/>\n",
              "    <path d=\"M18.56 5.44l.94 2.06.94-2.06 2.06-.94-2.06-.94-.94-2.06-.94 2.06-2.06.94zm-11 1L8.5 8.5l.94-2.06 2.06-.94-2.06-.94L8.5 2.5l-.94 2.06-2.06.94zm10 10l.94 2.06.94-2.06 2.06-.94-2.06-.94-.94-2.06-.94 2.06-2.06.94z\"/><path d=\"M17.41 7.96l-1.37-1.37c-.4-.4-.92-.59-1.43-.59-.52 0-1.04.2-1.43.59L10.3 9.45l-7.72 7.72c-.78.78-.78 2.05 0 2.83L4 21.41c.39.39.9.59 1.41.59.51 0 1.02-.2 1.41-.59l7.78-7.78 2.81-2.81c.8-.78.8-2.07 0-2.86zM5.41 20L4 18.59l7.72-7.72 1.47 1.35L5.41 20z\"/>\n",
              "  </svg>\n",
              "      </button>\n",
              "      \n",
              "  <style>\n",
              "    .colab-df-container {\n",
              "      display:flex;\n",
              "      flex-wrap:wrap;\n",
              "      gap: 12px;\n",
              "    }\n",
              "\n",
              "    .colab-df-convert {\n",
              "      background-color: #E8F0FE;\n",
              "      border: none;\n",
              "      border-radius: 50%;\n",
              "      cursor: pointer;\n",
              "      display: none;\n",
              "      fill: #1967D2;\n",
              "      height: 32px;\n",
              "      padding: 0 0 0 0;\n",
              "      width: 32px;\n",
              "    }\n",
              "\n",
              "    .colab-df-convert:hover {\n",
              "      background-color: #E2EBFA;\n",
              "      box-shadow: 0px 1px 2px rgba(60, 64, 67, 0.3), 0px 1px 3px 1px rgba(60, 64, 67, 0.15);\n",
              "      fill: #174EA6;\n",
              "    }\n",
              "\n",
              "    [theme=dark] .colab-df-convert {\n",
              "      background-color: #3B4455;\n",
              "      fill: #D2E3FC;\n",
              "    }\n",
              "\n",
              "    [theme=dark] .colab-df-convert:hover {\n",
              "      background-color: #434B5C;\n",
              "      box-shadow: 0px 1px 3px 1px rgba(0, 0, 0, 0.15);\n",
              "      filter: drop-shadow(0px 1px 2px rgba(0, 0, 0, 0.3));\n",
              "      fill: #FFFFFF;\n",
              "    }\n",
              "  </style>\n",
              "\n",
              "      <script>\n",
              "        const buttonEl =\n",
              "          document.querySelector('#df-da237f44-f537-4283-b296-3334d54a5052 button.colab-df-convert');\n",
              "        buttonEl.style.display =\n",
              "          google.colab.kernel.accessAllowed ? 'block' : 'none';\n",
              "\n",
              "        async function convertToInteractive(key) {\n",
              "          const element = document.querySelector('#df-da237f44-f537-4283-b296-3334d54a5052');\n",
              "          const dataTable =\n",
              "            await google.colab.kernel.invokeFunction('convertToInteractive',\n",
              "                                                     [key], {});\n",
              "          if (!dataTable) return;\n",
              "\n",
              "          const docLinkHtml = 'Like what you see? Visit the ' +\n",
              "            '<a target=\"_blank\" href=https://colab.research.google.com/notebooks/data_table.ipynb>data table notebook</a>'\n",
              "            + ' to learn more about interactive tables.';\n",
              "          element.innerHTML = '';\n",
              "          dataTable['output_type'] = 'display_data';\n",
              "          await google.colab.output.renderOutput(dataTable, element);\n",
              "          const docLink = document.createElement('div');\n",
              "          docLink.innerHTML = docLinkHtml;\n",
              "          element.appendChild(docLink);\n",
              "        }\n",
              "      </script>\n",
              "    </div>\n",
              "  </div>\n",
              "  "
            ]
          },
          "metadata": {},
          "execution_count": 22
        }
      ]
    },
    {
      "cell_type": "code",
      "source": [
        "candidate_labels=list(candidate_labels[\"text\"])"
      ],
      "metadata": {
        "id": "WrcDvxryFByI"
      },
      "execution_count": null,
      "outputs": []
    },
    {
      "cell_type": "code",
      "source": [
        "import re\n",
        "# Remove anything that's not alphanumeric or underscore\n",
        "candidate_labels = [re.sub(r'[^\\w]', ' ', sent) for sent in candidate_labels]\n",
        "candidate_labels=[re.sub(\"   \", \" \", sent) for sent in candidate_labels]\n",
        "\n",
        "candidate_labels\n"
      ],
      "metadata": {
        "colab": {
          "base_uri": "https://localhost:8080/"
        },
        "id": "W8GMD3pPAEju",
        "outputId": "d495f542-b224-450c-9623-e3acc9d5e0fd"
      },
      "execution_count": null,
      "outputs": [
        {
          "output_type": "execute_result",
          "data": {
            "text/plain": [
              "['Society Culture', 'Science Mathematics', 'Health', 'Education Reference']"
            ]
          },
          "metadata": {},
          "execution_count": 24
        }
      ]
    },
    {
      "cell_type": "markdown",
      "source": [
        "# Upload zero-shot pipeline "
      ],
      "metadata": {
        "id": "oeQmixmzwUCu"
      }
    },
    {
      "cell_type": "code",
      "execution_count": null,
      "metadata": {
        "id": "nYntJ1HUuUOp"
      },
      "outputs": [],
      "source": [
        "!pip install transformers"
      ]
    },
    {
      "cell_type": "code",
      "execution_count": null,
      "metadata": {
        "id": "p2clG7LIt32E"
      },
      "outputs": [],
      "source": [
        "from transformers import pipeline\n",
        "classifier = pipeline(\"zero-shot-classification\",\n",
        "                      model=\"facebook/bart-large-mnli\")"
      ]
    },
    {
      "cell_type": "markdown",
      "source": [
        "#Topics Dataset with topics inference "
      ],
      "metadata": {
        "id": "g93qyElTDQZg"
      }
    },
    {
      "cell_type": "markdown",
      "source": [
        "## Classifier"
      ],
      "metadata": {
        "id": "ff7z6LuXP6Y0"
      }
    },
    {
      "cell_type": "code",
      "execution_count": null,
      "metadata": {
        "id": "j7rr_tFzuBLT"
      },
      "outputs": [],
      "source": [
        "classifier_scores = []\n",
        "classifier_labels = []\n",
        "classifier_sequences = []\n",
        "#for i, sequence in enumerate(yahoo_sample_two_labels[:10]) :\n",
        "for i, sequence in enumerate(yahoo_sample[:400]) :\n",
        "  classifier_dict=classifier(sequence, candidate_labels, multi_label=True)\n",
        "  classifier_labels.append( classifier_dict['labels'])\n",
        "  classifier_scores.append( classifier_dict['scores'])\n",
        "  classifier_sequences.append( classifier_dict['sequence'])\n",
        "  print(i)"
      ]
    },
    {
      "cell_type": "code",
      "source": [
        "predictions = classifier_labels\n",
        "scores = classifier_scores"
      ],
      "metadata": {
        "id": "XikYycxgnyem"
      },
      "execution_count": null,
      "outputs": []
    },
    {
      "cell_type": "markdown",
      "source": [
        "## Metrics F1 score "
      ],
      "metadata": {
        "id": "NCVKTjk1v162"
      }
    },
    {
      "cell_type": "markdown",
      "source": [
        "Let's convert class index to class label in order to be comparable with predictions"
      ],
      "metadata": {
        "id": "WR0nMB4ck8s4"
      }
    },
    {
      "cell_type": "code",
      "source": [
        "# Create data frame from list\n",
        "import pandas as pd\n",
        "df = pd.DataFrame(yahoo_sample_4_labels)\n",
        "df.columns = ['labels']\n",
        "d = dict(zip([str(x) for x in range(1,5)], candidate_labels))\n",
        "labels= df['labels'].map(d)\n",
        "labels=list(labels)\n"
      ],
      "metadata": {
        "id": "MWMdeUVO9OT6"
      },
      "execution_count": null,
      "outputs": []
    },
    {
      "cell_type": "markdown",
      "source": [
        "For the sake of metrics, select only the most probable predictions"
      ],
      "metadata": {
        "id": "zX_d-tP3kX-p"
      }
    },
    {
      "cell_type": "code",
      "source": [
        "predictions1 = [line[0]  for line in predictions]\n",
        "predictions1"
      ],
      "metadata": {
        "id": "gViu6EBO1DKv"
      },
      "execution_count": null,
      "outputs": []
    },
    {
      "cell_type": "markdown",
      "source": [
        "Binarize the list of multi-classes predictinos and labels with a bin number of size 4, as for are the number of possible classes"
      ],
      "metadata": {
        "id": "MWZ5vdx-x_qT"
      }
    },
    {
      "cell_type": "code",
      "source": [
        "from sklearn import preprocessing\n",
        "lb = preprocessing.LabelBinarizer()\n",
        "#Fit label binarizer\n",
        "lb.fit(candidate_labels)\n",
        "lb.classes_"
      ],
      "metadata": {
        "id": "ixRgGrP6742-"
      },
      "execution_count": null,
      "outputs": []
    },
    {
      "cell_type": "code",
      "source": [
        "predictions_binary=lb.transform(predictions1)\n",
        "predictions_binary"
      ],
      "metadata": {
        "id": "qLY7qBYw9u4n"
      },
      "execution_count": null,
      "outputs": []
    },
    {
      "cell_type": "code",
      "source": [
        "labels_binary=lb.transform(labels[:400])\n",
        "labels_binary"
      ],
      "metadata": {
        "id": "IXhiHb779L2e"
      },
      "execution_count": null,
      "outputs": []
    },
    {
      "cell_type": "markdown",
      "source": [
        "Calculate F1 core with the function : \n",
        "\n",
        "sklearn.metrics.f1_score(y_true, y_pred, *, labels=None, pos_label=1, average='binary', sample_weight=None, zero_division='warn')"
      ],
      "metadata": {
        "id": "TkPf2NA_EiPM"
      }
    },
    {
      "cell_type": "code",
      "source": [
        "from sklearn.metrics import f1_score\n",
        "f1_score(labels_binary, predictions_binary, average='weighted')"
      ],
      "metadata": {
        "colab": {
          "base_uri": "https://localhost:8080/"
        },
        "id": "si7gmbYFAS1j",
        "outputId": "f7fc360c-4613-45e0-cf1c-d6439470dbb0"
      },
      "execution_count": null,
      "outputs": [
        {
          "output_type": "execute_result",
          "data": {
            "text/plain": [
              "0.40132536714814004"
            ]
          },
          "metadata": {},
          "execution_count": 38
        }
      ]
    },
    {
      "cell_type": "markdown",
      "source": [
        "## Plot scores\n",
        " \n",
        "\n"
      ],
      "metadata": {
        "id": "cG9dBqzJ8SjB"
      }
    },
    {
      "cell_type": "markdown",
      "source": [
        "Remember that when plotting we need to choose examples that belong to either of the four possible case studies:\n",
        "\n",
        "True Positives : labels[i] , predictions[i][0]\n",
        "\n",
        "False Positives : /labels[i]/ , predictions[i][0]\n",
        "\n",
        "True Negatives : /labels[i]/ , /predictions[i][0]/\n",
        "\n",
        "False Negatives : labels[i] , /predictions[i][0]/\n",
        "\n",
        "Now if we decide to plot only the examples that are both in labels[i] , and in predictions[i][0] we are basically taking care of recall and precision respectively, and so, the histogram will be comparable to the F1 score"
      ],
      "metadata": {
        "id": "BzXKruTzS_TC"
      }
    },
    {
      "cell_type": "code",
      "source": [
        "import numpy as np\n",
        "\n",
        "scores = [np.array(scores[i]).astype(float) for i in range(len(scores))]\n",
        "scores = np.array(scores)\n"
      ],
      "metadata": {
        "id": "_C783DQMX39M"
      },
      "execution_count": null,
      "outputs": []
    },
    {
      "cell_type": "code",
      "source": [
        "# True Positives cases : labels[i] , predictions[i][0]\n",
        "def scores_correspondingTo_expected_label(label) : \n",
        "  x =[]\n",
        "  for i,exp_label in enumerate(labels [:400]) :\n",
        "    if exp_label==label and predictions[i][0] == label :\n",
        "          x.append(scores[i,0])\n",
        "  return x"
      ],
      "metadata": {
        "id": "iokXpdAotH4N"
      },
      "execution_count": null,
      "outputs": []
    },
    {
      "cell_type": "code",
      "source": [
        "import numpy as np\n",
        "\n",
        "# society culture scores\n",
        "import matplotlib.pyplot as plt\n",
        "\n",
        "classes_scores=[]\n",
        "candidate_labels=['Society Culture', 'Science Mathematics', 'Health', 'Education Reference']\n",
        "for i,label in enumerate(candidate_labels) :\n",
        "  classes_scores.append(np.mean(scores_correspondingTo_expected_label(label)))\n",
        "\n",
        "\n",
        "# create a dataset\n",
        "height = classes_scores\n",
        "bars = ('Soc Cult', 'Sci Math', 'Health', 'Edu Ref')\n",
        "x_pos = np.arange(len(bars))\n",
        "\n",
        "# Create bars with different colors\n",
        "plt.bar(x_pos, height, color=['green','yellow', 'blue', 'red'])\n",
        "\n",
        "# Create names on the x-axis\n",
        "plt.xticks(x_pos, bars, Fontsize=18)\n",
        "plt.yticks(Fontsize=18)\n",
        "plt.ylabel('Topics probability mean', Fontsize=20)\n",
        "plt.xlabel('Multi-classes', Fontsize=20)\n"
      ],
      "metadata": {
        "colab": {
          "base_uri": "https://localhost:8080/",
          "height": 323
        },
        "id": "G8FsqDkbXo_K",
        "outputId": "cad89fe0-7de8-45c2-b3d5-6a3cdea401b6"
      },
      "execution_count": null,
      "outputs": [
        {
          "output_type": "execute_result",
          "data": {
            "text/plain": [
              "Text(0.5, 0, 'Multi-classes')"
            ]
          },
          "metadata": {},
          "execution_count": 50
        },
        {
          "output_type": "display_data",
          "data": {
            "text/plain": [
              "<Figure size 432x288 with 1 Axes>"
            ],
            "image/png": "[encoded data removed]"
          },
          "metadata": {
            "needs_background": "light"
          }
        }
      ]
    },
    {
      "cell_type": "markdown",
      "source": [
        "# Topics Dataset with emotions and topics inference all in parallel (not True labels case)"
      ],
      "metadata": {
        "id": "3buKJr-aJzNo"
      }
    },
    {
      "cell_type": "code",
      "source": [
        "candidate_labels=['Society Culture', 'Science Mathematics', 'Health', 'Education Reference','Joy', 'Love', 'Sadness', 'Anger']\n"
      ],
      "metadata": {
        "id": "guMxlOUpJzOE"
      },
      "execution_count": null,
      "outputs": []
    },
    {
      "cell_type": "markdown",
      "source": [
        "## Classifier"
      ],
      "metadata": {
        "id": "a82alDVYJzOG"
      }
    },
    {
      "cell_type": "code",
      "source": [
        "classifier_scores = []\n",
        "classifier_labels = []\n",
        "classifier_sequences = []\n",
        "#for i, sequence in enumerate(yahoo_sample_two_labels[:10]) :\n",
        "for i, sequence in enumerate(yahoo_sample[:400]) :\n",
        "  classifier_dict=classifier(sequence, candidate_labels, multi_label=True)\n",
        "  classifier_labels.append( classifier_dict['labels'])\n",
        "  classifier_scores.append( classifier_dict['scores'])\n",
        "  classifier_sequences.append( classifier_dict['sequence'])\n",
        "  print(i)"
      ],
      "metadata": {
        "id": "Mr1EgMWeJzOG"
      },
      "execution_count": null,
      "outputs": []
    },
    {
      "cell_type": "code",
      "source": [
        "predictions = classifier_labels\n",
        "scores = classifier_scores"
      ],
      "metadata": {
        "id": "zNy-5eHaoFF4"
      },
      "execution_count": null,
      "outputs": []
    },
    {
      "cell_type": "markdown",
      "source": [
        "## Plot scores"
      ],
      "metadata": {
        "id": "uoQjpo6oJzOK"
      }
    },
    {
      "cell_type": "code",
      "source": [
        "import numpy as np\n",
        "\n",
        "scores = [np.array(scores[i]).astype(float) for i in range(len(scores))]\n",
        "scores = np.array(scores)\n"
      ],
      "metadata": {
        "id": "xNcHA4i2JzOL"
      },
      "execution_count": null,
      "outputs": []
    },
    {
      "cell_type": "markdown",
      "source": [
        "### Histogram"
      ],
      "metadata": {
        "id": "zVPUaZOlLFdZ"
      }
    },
    {
      "cell_type": "code",
      "source": [
        "def scores_given_label(label,predictions) : \n",
        "  x =[]\n",
        "  for i in range(len(predictions)) :\n",
        "    for j,prediction in enumerate(predictions[i]) :\n",
        "      if label == prediction :\n",
        "        x.append(scores[i,j])\n",
        "  return x"
      ],
      "metadata": {
        "id": "5empTUNCLFdy"
      },
      "execution_count": null,
      "outputs": []
    },
    {
      "cell_type": "code",
      "source": [
        "import numpy as np\n",
        "\n",
        "# society culture scores\n",
        "import matplotlib.pyplot as plt\n",
        "\n",
        "classes_scores=[]\n",
        "\n",
        "for i,label in enumerate(candidate_labels) :\n",
        "  classes_scores.append(np.mean(scores_given_label(label,predictions)))\n",
        "\n",
        "\n",
        "# create a dataset\n",
        "height = classes_scores\n",
        "bars = ('Soc', 'Sci', 'Health', 'Edu','Joy','Love', 'Sad', 'Anger')\n",
        "x_pos = np.arange(len(bars))\n",
        "\n",
        "# Create bars with different colors\n",
        "plt.bar(x_pos, height, color=['green','yellow', 'blue', 'red','cyan','magenta','black', 'orange'])\n",
        "\n",
        "\n",
        "# Create names on the x-axis\n",
        "plt.yticks(np.arange(0,max(height),0.05))\n",
        "plt.xticks(x_pos, bars, Fontsize=14)\n",
        "plt.yticks(Fontsize=18)\n",
        "plt.ylabel('Topics-Emotions prob mean', Fontsize=20)\n",
        "plt.xlabel('Multi-classes', Fontsize=20)"
      ],
      "metadata": {
        "colab": {
          "base_uri": "https://localhost:8080/",
          "height": 339
        },
        "id": "A7nc3hj_LFdz",
        "outputId": "daee091a-c943-4ac6-a446-503e60ac8170"
      },
      "execution_count": null,
      "outputs": [
        {
          "output_type": "execute_result",
          "data": {
            "text/plain": [
              "Text(0.5, 0, 'Multi-classes')"
            ]
          },
          "metadata": {},
          "execution_count": 86
        },
        {
          "output_type": "display_data",
          "data": {
            "text/plain": [
              "<Figure size 432x288 with 1 Axes>"
            ],
            "image/png": "[encoded data removed]"
          },
          "metadata": {
            "needs_background": "light"
          }
        }
      ]
    }
  ],
  "metadata": {
    "colab": {
      "collapsed_sections": [
        "MBAjgThhwm3G",
        "cy1wb4WeefxJ",
        "oeQmixmzwUCu",
        "g93qyElTDQZg",
        "ff7z6LuXP6Y0",
        "NCVKTjk1v162",
        "cG9dBqzJ8SjB",
        "3buKJr-aJzNo",
        "a82alDVYJzOG",
        "uoQjpo6oJzOK",
        "zVPUaZOlLFdZ"
      ],
      "name": "zero_shot_bart_mnli_topics_dataset_github.ipynb",
      "provenance": [],
      "authorship_tag": "ABX9TyPI4Yvx1U0YNzhjJpGgrfg6",
      "include_colab_link": true
    },
    "kernelspec": {
      "display_name": "Python 3",
      "name": "python3"
    },
    "language_info": {
      "name": "python"
    },
    "widgets": {
      "application/vnd.jupyter.widget-state+json": {
        "ad99bfd6260e417cb10a46a69bff954c": {
          "model_module": "@jupyter-widgets/controls",
          "model_name": "HBoxModel",
          "model_module_version": "1.5.0",
          "state": {
            "_dom_classes": [],
            "_model_module": "@jupyter-widgets/controls",
            "_model_module_version": "1.5.0",
            "_model_name": "HBoxModel",
            "_view_count": null,
            "_view_module": "@jupyter-widgets/controls",
            "_view_module_version": "1.5.0",
            "_view_name": "HBoxView",
            "box_style": "",
            "children": [
              "IPY_MODEL_ba4740295f9d41998e1cf261835a8b4d",
              "IPY_MODEL_a19a879c556844b9afaa338efe2e43d9",
              "IPY_MODEL_85bd7d5d7c8c4449b5637d8d81b1fb52"
            ],
            "layout": "IPY_MODEL_1ec23ab67a8c492ca42d4abdfd51a6eb"
          }
        },
        "ba4740295f9d41998e1cf261835a8b4d": {
          "model_module": "@jupyter-widgets/controls",
          "model_name": "HTMLModel",
          "model_module_version": "1.5.0",
          "state": {
            "_dom_classes": [],
            "_model_module": "@jupyter-widgets/controls",
            "_model_module_version": "1.5.0",
            "_model_name": "HTMLModel",
            "_view_count": null,
            "_view_module": "@jupyter-widgets/controls",
            "_view_module_version": "1.5.0",
            "_view_name": "HTMLView",
            "description": "",
            "description_tooltip": null,
            "layout": "IPY_MODEL_93240ae5a0a1429695f226f9214a2255",
            "placeholder": "​",
            "style": "IPY_MODEL_3108622ffd8d40339b6a2b571cecf755",
            "value": "100%"
          }
        },
        "a19a879c556844b9afaa338efe2e43d9": {
          "model_module": "@jupyter-widgets/controls",
          "model_name": "FloatProgressModel",
          "model_module_version": "1.5.0",
          "state": {
            "_dom_classes": [],
            "_model_module": "@jupyter-widgets/controls",
            "_model_module_version": "1.5.0",
            "_model_name": "FloatProgressModel",
            "_view_count": null,
            "_view_module": "@jupyter-widgets/controls",
            "_view_module_version": "1.5.0",
            "_view_name": "ProgressView",
            "bar_style": "success",
            "description": "",
            "description_tooltip": null,
            "layout": "IPY_MODEL_7cb9d34977d44b618e1b33d872ab3bfa",
            "max": 60,
            "min": 0,
            "orientation": "horizontal",
            "style": "IPY_MODEL_a7c5ca478ad544ba99b564977150f4b4",
            "value": 60
          }
        },
        "85bd7d5d7c8c4449b5637d8d81b1fb52": {
          "model_module": "@jupyter-widgets/controls",
          "model_name": "HTMLModel",
          "model_module_version": "1.5.0",
          "state": {
            "_dom_classes": [],
            "_model_module": "@jupyter-widgets/controls",
            "_model_module_version": "1.5.0",
            "_model_name": "HTMLModel",
            "_view_count": null,
            "_view_module": "@jupyter-widgets/controls",
            "_view_module_version": "1.5.0",
            "_view_name": "HTMLView",
            "description": "",
            "description_tooltip": null,
            "layout": "IPY_MODEL_8ed6379370b0419daf379ff99ee18ab2",
            "placeholder": "​",
            "style": "IPY_MODEL_5a16a14d17514cedbeef5bda953f4e48",
            "value": " 60/60 [00:02&lt;00:00, 28.48ba/s]"
          }
        },
        "1ec23ab67a8c492ca42d4abdfd51a6eb": {
          "model_module": "@jupyter-widgets/base",
          "model_name": "LayoutModel",
          "model_module_version": "1.2.0",
          "state": {
            "_model_module": "@jupyter-widgets/base",
            "_model_module_version": "1.2.0",
            "_model_name": "LayoutModel",
            "_view_count": null,
            "_view_module": "@jupyter-widgets/base",
            "_view_module_version": "1.2.0",
            "_view_name": "LayoutView",
            "align_content": null,
            "align_items": null,
            "align_self": null,
            "border": null,
            "bottom": null,
            "display": null,
            "flex": null,
            "flex_flow": null,
            "grid_area": null,
            "grid_auto_columns": null,
            "grid_auto_flow": null,
            "grid_auto_rows": null,
            "grid_column": null,
            "grid_gap": null,
            "grid_row": null,
            "grid_template_areas": null,
            "grid_template_columns": null,
            "grid_template_rows": null,
            "height": null,
            "justify_content": null,
            "justify_items": null,
            "left": null,
            "margin": null,
            "max_height": null,
            "max_width": null,
            "min_height": null,
            "min_width": null,
            "object_fit": null,
            "object_position": null,
            "order": null,
            "overflow": null,
            "overflow_x": null,
            "overflow_y": null,
            "padding": null,
            "right": null,
            "top": null,
            "visibility": null,
            "width": null
          }
        },
        "93240ae5a0a1429695f226f9214a2255": {
          "model_module": "@jupyter-widgets/base",
          "model_name": "LayoutModel",
          "model_module_version": "1.2.0",
          "state": {
            "_model_module": "@jupyter-widgets/base",
            "_model_module_version": "1.2.0",
            "_model_name": "LayoutModel",
            "_view_count": null,
            "_view_module": "@jupyter-widgets/base",
            "_view_module_version": "1.2.0",
            "_view_name": "LayoutView",
            "align_content": null,
            "align_items": null,
            "align_self": null,
            "border": null,
            "bottom": null,
            "display": null,
            "flex": null,
            "flex_flow": null,
            "grid_area": null,
            "grid_auto_columns": null,
            "grid_auto_flow": null,
            "grid_auto_rows": null,
            "grid_column": null,
            "grid_gap": null,
            "grid_row": null,
            "grid_template_areas": null,
            "grid_template_columns": null,
            "grid_template_rows": null,
            "height": null,
            "justify_content": null,
            "justify_items": null,
            "left": null,
            "margin": null,
            "max_height": null,
            "max_width": null,
            "min_height": null,
            "min_width": null,
            "object_fit": null,
            "object_position": null,
            "order": null,
            "overflow": null,
            "overflow_x": null,
            "overflow_y": null,
            "padding": null,
            "right": null,
            "top": null,
            "visibility": null,
            "width": null
          }
        },
        "3108622ffd8d40339b6a2b571cecf755": {
          "model_module": "@jupyter-widgets/controls",
          "model_name": "DescriptionStyleModel",
          "model_module_version": "1.5.0",
          "state": {
            "_model_module": "@jupyter-widgets/controls",
            "_model_module_version": "1.5.0",
            "_model_name": "DescriptionStyleModel",
            "_view_count": null,
            "_view_module": "@jupyter-widgets/base",
            "_view_module_version": "1.2.0",
            "_view_name": "StyleView",
            "description_width": ""
          }
        },
        "7cb9d34977d44b618e1b33d872ab3bfa": {
          "model_module": "@jupyter-widgets/base",
          "model_name": "LayoutModel",
          "model_module_version": "1.2.0",
          "state": {
            "_model_module": "@jupyter-widgets/base",
            "_model_module_version": "1.2.0",
            "_model_name": "LayoutModel",
            "_view_count": null,
            "_view_module": "@jupyter-widgets/base",
            "_view_module_version": "1.2.0",
            "_view_name": "LayoutView",
            "align_content": null,
            "align_items": null,
            "align_self": null,
            "border": null,
            "bottom": null,
            "display": null,
            "flex": null,
            "flex_flow": null,
            "grid_area": null,
            "grid_auto_columns": null,
            "grid_auto_flow": null,
            "grid_auto_rows": null,
            "grid_column": null,
            "grid_gap": null,
            "grid_row": null,
            "grid_template_areas": null,
            "grid_template_columns": null,
            "grid_template_rows": null,
            "height": null,
            "justify_content": null,
            "justify_items": null,
            "left": null,
            "margin": null,
            "max_height": null,
            "max_width": null,
            "min_height": null,
            "min_width": null,
            "object_fit": null,
            "object_position": null,
            "order": null,
            "overflow": null,
            "overflow_x": null,
            "overflow_y": null,
            "padding": null,
            "right": null,
            "top": null,
            "visibility": null,
            "width": null
          }
        },
        "a7c5ca478ad544ba99b564977150f4b4": {
          "model_module": "@jupyter-widgets/controls",
          "model_name": "ProgressStyleModel",
          "model_module_version": "1.5.0",
          "state": {
            "_model_module": "@jupyter-widgets/controls",
            "_model_module_version": "1.5.0",
            "_model_name": "ProgressStyleModel",
            "_view_count": null,
            "_view_module": "@jupyter-widgets/base",
            "_view_module_version": "1.2.0",
            "_view_name": "StyleView",
            "bar_color": null,
            "description_width": ""
          }
        },
        "8ed6379370b0419daf379ff99ee18ab2": {
          "model_module": "@jupyter-widgets/base",
          "model_name": "LayoutModel",
          "model_module_version": "1.2.0",
          "state": {
            "_model_module": "@jupyter-widgets/base",
            "_model_module_version": "1.2.0",
            "_model_name": "LayoutModel",
            "_view_count": null,
            "_view_module": "@jupyter-widgets/base",
            "_view_module_version": "1.2.0",
            "_view_name": "LayoutView",
            "align_content": null,
            "align_items": null,
            "align_self": null,
            "border": null,
            "bottom": null,
            "display": null,
            "flex": null,
            "flex_flow": null,
            "grid_area": null,
            "grid_auto_columns": null,
            "grid_auto_flow": null,
            "grid_auto_rows": null,
            "grid_column": null,
            "grid_gap": null,
            "grid_row": null,
            "grid_template_areas": null,
            "grid_template_columns": null,
            "grid_template_rows": null,
            "height": null,
            "justify_content": null,
            "justify_items": null,
            "left": null,
            "margin": null,
            "max_height": null,
            "max_width": null,
            "min_height": null,
            "min_width": null,
            "object_fit": null,
            "object_position": null,
            "order": null,
            "overflow": null,
            "overflow_x": null,
            "overflow_y": null,
            "padding": null,
            "right": null,
            "top": null,
            "visibility": null,
            "width": null
          }
        },
        "5a16a14d17514cedbeef5bda953f4e48": {
          "model_module": "@jupyter-widgets/controls",
          "model_name": "DescriptionStyleModel",
          "model_module_version": "1.5.0",
          "state": {
            "_model_module": "@jupyter-widgets/controls",
            "_model_module_version": "1.5.0",
            "_model_name": "DescriptionStyleModel",
            "_view_count": null,
            "_view_module": "@jupyter-widgets/base",
            "_view_module_version": "1.2.0",
            "_view_name": "StyleView",
            "description_width": ""
          }
        },
        "c45c0101e5664e1fb4c175313235661a": {
          "model_module": "@jupyter-widgets/controls",
          "model_name": "HBoxModel",
          "model_module_version": "1.5.0",
          "state": {
            "_dom_classes": [],
            "_model_module": "@jupyter-widgets/controls",
            "_model_module_version": "1.5.0",
            "_model_name": "HBoxModel",
            "_view_count": null,
            "_view_module": "@jupyter-widgets/controls",
            "_view_module_version": "1.5.0",
            "_view_name": "HBoxView",
            "box_style": "",
            "children": [
              "IPY_MODEL_b1caadafe183400b8b7120f9e8dec4ed",
              "IPY_MODEL_0e3143a912ab412f9bc7c190205c758d",
              "IPY_MODEL_175988af436e48489926a23996771b9d"
            ],
            "layout": "IPY_MODEL_358c7f50644d43dc849377de740dbf63"
          }
        },
        "b1caadafe183400b8b7120f9e8dec4ed": {
          "model_module": "@jupyter-widgets/controls",
          "model_name": "HTMLModel",
          "model_module_version": "1.5.0",
          "state": {
            "_dom_classes": [],
            "_model_module": "@jupyter-widgets/controls",
            "_model_module_version": "1.5.0",
            "_model_name": "HTMLModel",
            "_view_count": null,
            "_view_module": "@jupyter-widgets/controls",
            "_view_module_version": "1.5.0",
            "_view_name": "HTMLView",
            "description": "",
            "description_tooltip": null,
            "layout": "IPY_MODEL_86f3b1cb923c45588f7a18b5c8cc0d4f",
            "placeholder": "​",
            "style": "IPY_MODEL_1be4f6a23a534c5e8718a07472576c07",
            "value": "100%"
          }
        },
        "0e3143a912ab412f9bc7c190205c758d": {
          "model_module": "@jupyter-widgets/controls",
          "model_name": "FloatProgressModel",
          "model_module_version": "1.5.0",
          "state": {
            "_dom_classes": [],
            "_model_module": "@jupyter-widgets/controls",
            "_model_module_version": "1.5.0",
            "_model_name": "FloatProgressModel",
            "_view_count": null,
            "_view_module": "@jupyter-widgets/controls",
            "_view_module_version": "1.5.0",
            "_view_name": "ProgressView",
            "bar_style": "success",
            "description": "",
            "description_tooltip": null,
            "layout": "IPY_MODEL_4e4ab2246069454f82fb8949e42ef522",
            "max": 1,
            "min": 0,
            "orientation": "horizontal",
            "style": "IPY_MODEL_652320d3a857476aa2aa08f899b1ae94",
            "value": 1
          }
        },
        "175988af436e48489926a23996771b9d": {
          "model_module": "@jupyter-widgets/controls",
          "model_name": "HTMLModel",
          "model_module_version": "1.5.0",
          "state": {
            "_dom_classes": [],
            "_model_module": "@jupyter-widgets/controls",
            "_model_module_version": "1.5.0",
            "_model_name": "HTMLModel",
            "_view_count": null,
            "_view_module": "@jupyter-widgets/controls",
            "_view_module_version": "1.5.0",
            "_view_name": "HTMLView",
            "description": "",
            "description_tooltip": null,
            "layout": "IPY_MODEL_0dc2915c202d45eaaabb50cd80f85e42",
            "placeholder": "​",
            "style": "IPY_MODEL_ff887598fd10426ab3f72ff9e5000af7",
            "value": " 1/1 [00:00&lt;00:00,  8.28it/s]"
          }
        },
        "358c7f50644d43dc849377de740dbf63": {
          "model_module": "@jupyter-widgets/base",
          "model_name": "LayoutModel",
          "model_module_version": "1.2.0",
          "state": {
            "_model_module": "@jupyter-widgets/base",
            "_model_module_version": "1.2.0",
            "_model_name": "LayoutModel",
            "_view_count": null,
            "_view_module": "@jupyter-widgets/base",
            "_view_module_version": "1.2.0",
            "_view_name": "LayoutView",
            "align_content": null,
            "align_items": null,
            "align_self": null,
            "border": null,
            "bottom": null,
            "display": null,
            "flex": null,
            "flex_flow": null,
            "grid_area": null,
            "grid_auto_columns": null,
            "grid_auto_flow": null,
            "grid_auto_rows": null,
            "grid_column": null,
            "grid_gap": null,
            "grid_row": null,
            "grid_template_areas": null,
            "grid_template_columns": null,
            "grid_template_rows": null,
            "height": null,
            "justify_content": null,
            "justify_items": null,
            "left": null,
            "margin": null,
            "max_height": null,
            "max_width": null,
            "min_height": null,
            "min_width": null,
            "object_fit": null,
            "object_position": null,
            "order": null,
            "overflow": null,
            "overflow_x": null,
            "overflow_y": null,
            "padding": null,
            "right": null,
            "top": null,
            "visibility": null,
            "width": null
          }
        },
        "86f3b1cb923c45588f7a18b5c8cc0d4f": {
          "model_module": "@jupyter-widgets/base",
          "model_name": "LayoutModel",
          "model_module_version": "1.2.0",
          "state": {
            "_model_module": "@jupyter-widgets/base",
            "_model_module_version": "1.2.0",
            "_model_name": "LayoutModel",
            "_view_count": null,
            "_view_module": "@jupyter-widgets/base",
            "_view_module_version": "1.2.0",
            "_view_name": "LayoutView",
            "align_content": null,
            "align_items": null,
            "align_self": null,
            "border": null,
            "bottom": null,
            "display": null,
            "flex": null,
            "flex_flow": null,
            "grid_area": null,
            "grid_auto_columns": null,
            "grid_auto_flow": null,
            "grid_auto_rows": null,
            "grid_column": null,
            "grid_gap": null,
            "grid_row": null,
            "grid_template_areas": null,
            "grid_template_columns": null,
            "grid_template_rows": null,
            "height": null,
            "justify_content": null,
            "justify_items": null,
            "left": null,
            "margin": null,
            "max_height": null,
            "max_width": null,
            "min_height": null,
            "min_width": null,
            "object_fit": null,
            "object_position": null,
            "order": null,
            "overflow": null,
            "overflow_x": null,
            "overflow_y": null,
            "padding": null,
            "right": null,
            "top": null,
            "visibility": null,
            "width": null
          }
        },
        "1be4f6a23a534c5e8718a07472576c07": {
          "model_module": "@jupyter-widgets/controls",
          "model_name": "DescriptionStyleModel",
          "model_module_version": "1.5.0",
          "state": {
            "_model_module": "@jupyter-widgets/controls",
            "_model_module_version": "1.5.0",
            "_model_name": "DescriptionStyleModel",
            "_view_count": null,
            "_view_module": "@jupyter-widgets/base",
            "_view_module_version": "1.2.0",
            "_view_name": "StyleView",
            "description_width": ""
          }
        },
        "4e4ab2246069454f82fb8949e42ef522": {
          "model_module": "@jupyter-widgets/base",
          "model_name": "LayoutModel",
          "model_module_version": "1.2.0",
          "state": {
            "_model_module": "@jupyter-widgets/base",
            "_model_module_version": "1.2.0",
            "_model_name": "LayoutModel",
            "_view_count": null,
            "_view_module": "@jupyter-widgets/base",
            "_view_module_version": "1.2.0",
            "_view_name": "LayoutView",
            "align_content": null,
            "align_items": null,
            "align_self": null,
            "border": null,
            "bottom": null,
            "display": null,
            "flex": null,
            "flex_flow": null,
            "grid_area": null,
            "grid_auto_columns": null,
            "grid_auto_flow": null,
            "grid_auto_rows": null,
            "grid_column": null,
            "grid_gap": null,
            "grid_row": null,
            "grid_template_areas": null,
            "grid_template_columns": null,
            "grid_template_rows": null,
            "height": null,
            "justify_content": null,
            "justify_items": null,
            "left": null,
            "margin": null,
            "max_height": null,
            "max_width": null,
            "min_height": null,
            "min_width": null,
            "object_fit": null,
            "object_position": null,
            "order": null,
            "overflow": null,
            "overflow_x": null,
            "overflow_y": null,
            "padding": null,
            "right": null,
            "top": null,
            "visibility": null,
            "width": null
          }
        },
        "652320d3a857476aa2aa08f899b1ae94": {
          "model_module": "@jupyter-widgets/controls",
          "model_name": "ProgressStyleModel",
          "model_module_version": "1.5.0",
          "state": {
            "_model_module": "@jupyter-widgets/controls",
            "_model_module_version": "1.5.0",
            "_model_name": "ProgressStyleModel",
            "_view_count": null,
            "_view_module": "@jupyter-widgets/base",
            "_view_module_version": "1.2.0",
            "_view_name": "StyleView",
            "bar_color": null,
            "description_width": ""
          }
        },
        "0dc2915c202d45eaaabb50cd80f85e42": {
          "model_module": "@jupyter-widgets/base",
          "model_name": "LayoutModel",
          "model_module_version": "1.2.0",
          "state": {
            "_model_module": "@jupyter-widgets/base",
            "_model_module_version": "1.2.0",
            "_model_name": "LayoutModel",
            "_view_count": null,
            "_view_module": "@jupyter-widgets/base",
            "_view_module_version": "1.2.0",
            "_view_name": "LayoutView",
            "align_content": null,
            "align_items": null,
            "align_self": null,
            "border": null,
            "bottom": null,
            "display": null,
            "flex": null,
            "flex_flow": null,
            "grid_area": null,
            "grid_auto_columns": null,
            "grid_auto_flow": null,
            "grid_auto_rows": null,
            "grid_column": null,
            "grid_gap": null,
            "grid_row": null,
            "grid_template_areas": null,
            "grid_template_columns": null,
            "grid_template_rows": null,
            "height": null,
            "justify_content": null,
            "justify_items": null,
            "left": null,
            "margin": null,
            "max_height": null,
            "max_width": null,
            "min_height": null,
            "min_width": null,
            "object_fit": null,
            "object_position": null,
            "order": null,
            "overflow": null,
            "overflow_x": null,
            "overflow_y": null,
            "padding": null,
            "right": null,
            "top": null,
            "visibility": null,
            "width": null
          }
        },
        "ff887598fd10426ab3f72ff9e5000af7": {
          "model_module": "@jupyter-widgets/controls",
          "model_name": "DescriptionStyleModel",
          "model_module_version": "1.5.0",
          "state": {
            "_model_module": "@jupyter-widgets/controls",
            "_model_module_version": "1.5.0",
            "_model_name": "DescriptionStyleModel",
            "_view_count": null,
            "_view_module": "@jupyter-widgets/base",
            "_view_module_version": "1.2.0",
            "_view_name": "StyleView",
            "description_width": ""
          }
        }
      }
    }
  },
  "nbformat": 4,
  "nbformat_minor": 0
}